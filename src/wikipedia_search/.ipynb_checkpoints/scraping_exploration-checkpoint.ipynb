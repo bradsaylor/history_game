{
 "cells": [
  {
   "cell_type": "code",
   "execution_count": 1,
   "id": "19de5858-0d84-4395-bff9-d7682955999f",
   "metadata": {
    "tags": []
   },
   "outputs": [],
   "source": [
    "import requests\n",
    "from bs4 import BeautifulSoup\n",
    "import re\n",
    "import helper_funcs as hf"
   ]
  },
  {
   "cell_type": "code",
   "execution_count": 2,
   "id": "73aaf1c9-25a5-4649-a919-a5111213ce8f",
   "metadata": {
    "tags": []
   },
   "outputs": [],
   "source": [
    "search_str = 'Julius_Caeser'\n",
    "r = requests.get('https://en.wikipedia.org/wiki/' + search_str)\n",
    "soup = BeautifulSoup(r.content, 'html.parser')\n",
    "bs_table = soup.find_all('table')\n",
    "born_data = died_data = []"
   ]
  },
  {
   "cell_type": "code",
   "execution_count": 3,
   "id": "c2e99cfc-9b98-4f34-81a1-358b899ae118",
   "metadata": {
    "tags": []
   },
   "outputs": [],
   "source": [
    "for table in bs_table:\n",
    "    for item in table.find_all('tr'):\n",
    "        if item.th:\n",
    "            if item.th.string == 'Born' or item.th.string == 'Baptised':\n",
    "                born_data = [*item.td.strings]\n",
    "            if item.th.string == 'Died':\n",
    "                died_data = [*item.td.strings]\n",
    "            \n",
    "    "
   ]
  },
  {
   "cell_type": "code",
   "execution_count": 4,
   "id": "8ceed997-f1eb-4792-8893-06bdca15190d",
   "metadata": {
    "tags": []
   },
   "outputs": [],
   "source": [
    "def remove_non_ascii(text):\n",
    "    return re.sub(r'[^\\x00-\\x7F]', ' ', text)"
   ]
  },
  {
   "cell_type": "code",
   "execution_count": 5,
   "id": "f02c376e-8244-4d4b-b384-6645d681a5dd",
   "metadata": {
    "tags": []
   },
   "outputs": [],
   "source": [
    "born_data = [remove_non_ascii(item) for item in born_data]\n",
    "died_data = [remove_non_ascii(item) for item in died_data]\n",
    "\n",
    "born = hf.scrape_data()\n",
    "born.start_end = 'start'\n",
    "died = hf.scrape_data()\n",
    "died.start_end = 'end'"
   ]
  },
  {
   "cell_type": "code",
   "execution_count": 6,
   "id": "43f3e773-b02e-4368-b32b-f1cf464cbfbe",
   "metadata": {
    "tags": []
   },
   "outputs": [
    {
     "name": "stdout",
     "output_type": "stream",
     "text": [
      "born-> ['12 July 100 BC', '[1]', 'Suburra', ', ', 'Ancient Rome'] \n",
      "died-> ['15 March', ' 44 BC (aged 55)', 'Theatre of Pompey', ', Ancient Rome']\n"
     ]
    }
   ],
   "source": [
    "print('born->', born_data, '\\ndied->', died_data)"
   ]
  },
  {
   "cell_type": "code",
   "execution_count": 7,
   "id": "895d298a-5b95-458f-9a15-4dfbd11d5337",
   "metadata": {},
   "outputs": [],
   "source": [
    "for item in born_data:\n",
    "    hf.dmy_re(item, born)\n",
    "    hf.dm_re(item, born)\n",
    "    hf.y_re(item, born)\n",
    "    \n",
    "\n",
    "# for item in died_data:\n",
    "#     if (result := dmy_re(item)):\n",
    "#         print('found died->', result.split())\n",
    "#         break\n",
    "#     elif (result := dm_re(item)):\n",
    "#         print('found died->', result.split())\n",
    "#     elif (result := yr_se(item)):\n",
    "#         print('fount died->', result.split())\n",
    "#         break"
   ]
  },
  {
   "cell_type": "code",
   "execution_count": 8,
   "id": "aa9596c0-80f0-4d41-b3ed-42ae20537c4d",
   "metadata": {},
   "outputs": [
    {
     "name": "stdout",
     "output_type": "stream",
     "text": [
      "100\n",
      "July\n",
      "12\n"
     ]
    }
   ],
   "source": [
    "print(born.start_year, born.start_adbc)\n",
    "print(born.start_month)\n",
    "print(born.start_day)"
   ]
  },
  {
   "cell_type": "code",
   "execution_count": null,
   "id": "cc3b1f9b-608c-4103-b0e5-3eb1e38168d1",
   "metadata": {},
   "outputs": [],
   "source": []
  },
  {
   "cell_type": "code",
   "execution_count": null,
   "id": "a46b6091-8a04-4314-8d6f-7f1fa54769ba",
   "metadata": {},
   "outputs": [],
   "source": []
  }
 ],
 "metadata": {
  "kernelspec": {
   "display_name": "Python 3 (ipykernel)",
   "language": "python",
   "name": "python3"
  },
  "language_info": {
   "codemirror_mode": {
    "name": "ipython",
    "version": 3
   },
   "file_extension": ".py",
   "mimetype": "text/x-python",
   "name": "python",
   "nbconvert_exporter": "python",
   "pygments_lexer": "ipython3",
   "version": "3.11.5"
  }
 },
 "nbformat": 4,
 "nbformat_minor": 5
}
